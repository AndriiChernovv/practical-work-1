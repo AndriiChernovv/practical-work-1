{
  "cells": [
    {
      "cell_type": "markdown",
      "metadata": {
        "id": "p9wwt0LZzNvn"
      },
      "source": [
        "# I. Змінні та памʼять."
      ]
    },
    {
      "cell_type": "markdown",
      "metadata": {
        "id": "HTJrrm95xSV9"
      },
      "source": [
        "1. Створити змінні, що посилаються на два цілих числа, що однакові за значенням, де значення належить проміжку від -5 до 256. Перевірте, чи будуть ці змінні рівні тільки за значенням або ж ще будуть посилатися на один і той самий обʼєкт в памʼяті? Наведіть код та дайте текстову відповідь нижче.1"
      ]
    },
    {
      "cell_type": "code",
      "execution_count": null,
      "metadata": {
        "id": "TATni2vzayjG"
      },
      "outputs": [],
      "source": [
        "a = 10 \n",
        "b = 10 \n",
        "\n",
        "print(a==b) # Перевіряємо рівність значень\n",
        "print(a is b) # Перевіряємо, чи посилаються на один і той самий об'єкт в пам'яті\n",
        "\"\"\" Для перевірки посилання на один об'єкт в пам'яті, я спочатку хотів використати print(id(a)==id(b)),\n",
        "але дізнався, що він є не оптимальним при порівнянні з print(a is b), при умові, що вони є повними аналогами\"\"\""
      ]
    },
    {
      "cell_type": "markdown",
      "metadata": {
        "id": "zfRG_o3WbRdg"
      },
      "source": [
        "True\n",
        "True"
      ]
    },
    {
      "cell_type": "markdown",
      "metadata": {
        "id": "ISORzt6M3vAt"
      },
      "source": [
        "2. За допомогою якої функції можна перевірити належність змінної до вказаного типу даних (напр. чи змінна True посилається на значення булевого та цілочисленого типу)?"
      ]
    },
    {
      "cell_type": "code",
      "execution_count": null,
      "metadata": {
        "id": "9vL9CFaMbfyo"
      },
      "outputs": [],
      "source": [
        "print(isinstance(True, bool))  # Перевіряємо, чи True є булевим значенням\n",
        "print(isinstance(True, int))   # Перевіряємо, чи True є цілим числом"
      ]
    },
    {
      "cell_type": "markdown",
      "metadata": {
        "id": "tRxugKAxwYLw"
      },
      "source": [
        "# II. Цілі числа та числа з рухомою комою"
      ]
    },
    {
      "cell_type": "markdown",
      "metadata": {
        "id": "NLHkgd5Gybc8"
      },
      "source": [
        "3. Створити дві змінні, що посилаються на будь-які ціле число та число з рухомою комою та продемонструвати такі арифметичні операції: додавання, віднімання, ділення, множення, ділення без залишку, ділення по модулю, приведення до ступеню. Всі результати операцій вивести на екран."
      ]
    },
    {
      "cell_type": "code",
      "execution_count": null,
      "metadata": {
        "id": "nb8u_3pjb2cA"
      },
      "outputs": [],
      "source": [
        "a = 10 \n",
        "b = 3.5 \n",
        "\n",
        "print(\"Додавання:\", a + b) \n",
        "print(\"Віднімання:\", a - b)\n",
        "print(\"Множення:\", a * b)\n",
        "print(\"Ділення:\", a / b)\n",
        "print(\"Ділення без залишку:\", a // b)\n",
        "print(\"Ділення по модулю:\", a % b)\n",
        "print(\"Зведення в ступінь:\", a ** b)"
      ]
    },
    {
      "cell_type": "markdown",
      "metadata": {
        "id": "1kBClKgPzZnC"
      },
      "source": [
        "4. Використовуючи змінні з вправи 3, продемонструйте механізм явного перетворення типів, де числа з рухомою комою перетворюються на цілі числа. Також визначте змінну, що посилається на значення булевого типу і спробуйте явно привести її до цілого числа."
      ]
    },
    {
      "cell_type": "code",
      "execution_count": null,
      "metadata": {
        "id": "TbqJbkeUcKsD"
      },
      "outputs": [],
      "source": [
        "print(int(b)) # перетворення в ціле число \n",
        "print(str(b)) # перетворення в строку\n",
        "\n",
        "bool_var = True \n",
        "print(int(bool_var)) # перетворення логічного типу в ціле число"
      ]
    },
    {
      "cell_type": "markdown",
      "metadata": {
        "id": "EVJ7AflwxrZi"
      },
      "source": [
        "# IІІ. Рядки (String)."
      ]
    },
    {
      "cell_type": "markdown",
      "metadata": {
        "id": "_s5ECzz9zE61"
      },
      "source": [
        "5. Створити пустий рядок двома різними способами."
      ]
    },
    {
      "cell_type": "code",
      "execution_count": null,
      "metadata": {
        "id": "fkZJHu9Scvc-"
      },
      "outputs": [],
      "source": [
        "str_1 = \"\"\n",
        "str_2 = str()\n",
        "\n",
        "print(str_1)\n",
        "print(str_2)"
      ]
    },
    {
      "cell_type": "markdown",
      "metadata": {
        "id": "4Bdn9J3MzLf_"
      },
      "source": [
        "6. Створити рядок з апострофом. Зробити його сирим. Вивести обидва рядка на екран."
      ]
    },
    {
      "cell_type": "code",
      "execution_count": null,
      "metadata": {
        "id": "ivji_hsmc0GH"
      },
      "outputs": [],
      "source": [
        "print(\"I'm learning Python!\")\n",
        "print(r\"I'm learning Python!\")"
      ]
    },
    {
      "cell_type": "markdown",
      "metadata": {
        "id": "bg_d8wM4z8dS"
      },
      "source": [
        "7. Створити змінну, що буде посилатися на Ваше прізвище латинкою. Створити форматований рядок, який буде мати вигляд \"My surname is ______\", де на місці нижніх підкреслень буде Ваше прізвище зі змінної."
      ]
    },
    {
      "cell_type": "code",
      "execution_count": null,
      "metadata": {
        "id": "kuxFgpWndACq"
      },
      "outputs": [],
      "source": [
        "surname = \"Chernov\"\n",
        "print(f\"My surname is {surname}\")"
      ]
    },
    {
      "cell_type": "markdown",
      "metadata": {
        "id": "1Nc6RqvQ0hxU"
      },
      "source": [
        "8. Маючи рядок \"My dog is crazy.\" перетворити його на список [\"my\", \"dog\", \"is\", \"crazy\"]"
      ]
    },
    {
      "cell_type": "code",
      "execution_count": null,
      "metadata": {
        "id": "w1Ya4RqedUhw"
      },
      "outputs": [],
      "source": [
        "str_3 =\"My dog is crazy.\"\n",
        "list_1 = str_3[:-1].lower().split()\n",
        "print(list_1)"
      ]
    },
    {
      "cell_type": "markdown",
      "metadata": {
        "id": "GYVqN9uP1D4n"
      },
      "source": [
        "# IV. Робота зі списками."
      ]
    },
    {
      "cell_type": "markdown",
      "metadata": {
        "id": "7-DeDunw2sO-"
      },
      "source": [
        "9. Створити список двома різними за синтаксисом способами. За допомогою вбудованої функції обчисліть довжину одного з них."
      ]
    },
    {
      "cell_type": "code",
      "execution_count": null,
      "metadata": {
        "id": "zxg06Uuxdyoh"
      },
      "outputs": [],
      "source": [
        "list_1 = [1, 2, 3, 4]\n",
        "list_2 = list(\"hi\")\n",
        "\n",
        "print(list_1)\n",
        "print(list_2)"
      ]
    },
    {
      "cell_type": "markdown",
      "metadata": {
        "id": "8vmGUTjL22gI"
      },
      "source": [
        "10. Створіть два списка та за допомогою спеціального методу додайте другий з них в якості останнього елемента першого."
      ]
    },
    {
      "cell_type": "code",
      "execution_count": null,
      "metadata": {
        "id": "uHtjWYw7d7hm"
      },
      "outputs": [],
      "source": [
        "list_12 = [1, 2, 3]\n",
        "list_23 = [4, 5, 6]\n",
        "list_12.append(list_23)\n",
        "print(list_12)"
      ]
    },
    {
      "cell_type": "markdown",
      "metadata": {
        "id": "JC3BkD-67_--"
      },
      "source": [
        "11. Створіть список, де елементами цього списку також є списки. Отримай перший елемент з останнього рядка та виведи значення на екран."
      ]
    },
    {
      "cell_type": "code",
      "execution_count": null,
      "metadata": {
        "id": "Kz2jZHsGeLlz"
      },
      "outputs": [],
      "source": [
        "# Створення списку зі вкладеними списками\n",
        "nested_list = [\n",
        "    [1, 2, 3],\n",
        "    [4, 5, 6],\n",
        "    [7, 8, 9]  # Останній список (останній рядок)\n",
        "]\n",
        "\n",
        "# Отримання першого елемента з останнього списку\n",
        "first_element_last_row = nested_list[-1][0]\n",
        "\n",
        "# Виведення результату\n",
        "print(\"Перший елемент з останнього рядка:\", first_element_last_row)\n"
      ]
    },
    {
      "cell_type": "markdown",
      "metadata": {
        "id": "JA47PKTv8zFK"
      },
      "source": [
        "12. Створіть список з десяти елементів різного типу. Отримайте всі елементи, окрім двох перших та двох останніх та збережіть їх в новій змінній."
      ]
    },
    {
      "cell_type": "code",
      "execution_count": null,
      "metadata": {
        "id": "_rHdUR-ueP4-"
      },
      "outputs": [],
      "source": [
        "# Створення списку з 10 елементами різних типів\n",
        "mixed_list = [1, \"hello\", 3.14, True, None, [5, 6], {\"key\": \"value\"}, (7, 8), \"Python\", 42]\n",
        "\n",
        "# Відрізок списку без перших двох і останніх двох елементів\n",
        "sliced_list = mixed_list[2:-2]\n",
        "\n",
        "# Виведення результату\n",
        "print(\"Оригінальний список:\", mixed_list)\n",
        "print(\"Обрізаний список:\", sliced_list)\n"
      ]
    },
    {
      "cell_type": "markdown",
      "metadata": {
        "id": "pCjR1dJb1Qbi"
      },
      "source": [
        "# V. Робота з кортежами."
      ]
    },
    {
      "cell_type": "markdown",
      "metadata": {
        "id": "fAZCxAX06R_k"
      },
      "source": [
        "14. Створити кортеж з один елементом."
      ]
    },
    {
      "cell_type": "code",
      "execution_count": null,
      "metadata": {
        "id": "H7d82WkQev3e"
      },
      "outputs": [],
      "source": [
        "# Кортеж з одним елементом\n",
        "single_element_tuple = (42,)\n",
        "\n",
        "# Перевірка типу\n",
        "print(type(single_element_tuple))  # Очікуваний вивід: <class 'tuple'>\n",
        "\n",
        "# Вивід самого кортежу\n",
        "print(single_element_tuple)  # Очікуваний вивід: (42,)\n"
      ]
    },
    {
      "cell_type": "markdown",
      "metadata": {
        "id": "8LCtYcmI6w1M"
      },
      "source": [
        "15. Порівняйте список та кортеж. Назвіть схожості та відмінності, випадки використання."
      ]
    },
    {
      "cell_type": "markdown",
      "metadata": {
        "id": "fUsN1Hnue0C6"
      },
      "source": [
        "Список - можна змінювати, а кортеж - ні. З цього випливають всі інші(другорядні) відміності. Такі як, різна швидкість, кількість методів."
      ]
    },
    {
      "cell_type": "markdown",
      "metadata": {
        "id": "m0xrwFijAmDD"
      },
      "source": [
        "16. Створіть кортеж з 11ти елементів чисел з рухомою комою та отримайте кожен парний за індексом елемент в зворотньому порядку. Наприклад, маючи (1.2, 2.3, 3.3, 4.3, 5.3, 6.3, 7.3, 8.3, 9.3, 0.3), отримати (0.3, 8.3, 6.3, 4.3, 2.3). Результат збережіть в нову змінну та виведіть на екран."
      ]
    },
    {
      "cell_type": "code",
      "execution_count": null,
      "metadata": {
        "id": "p-5DAH6XfAGA"
      },
      "outputs": [],
      "source": [
        "# Створення кортежу з 11 елементами\n",
        "float_tuple = (1.2, 2.3, 3.3, 4.3, 5.3, 6.3, 7.3, 8.3, 9.3, 0.3, 10.3)\n",
        "\n",
        "# Отримання кожного парного за індексом елемента у зворотному порядку\n",
        "even_index_reversed = float_tuple[::-2]\n",
        "\n",
        "# Виведення результату\n",
        "print(\"Оригінальний кортеж:\", float_tuple)\n",
        "print(\"Парні за індексом елементи у зворотному порядку:\", even_index_reversed)\n"
      ]
    },
    {
      "cell_type": "markdown",
      "metadata": {
        "id": "rW_I9dt3x6cW"
      },
      "source": [
        "# VI. Множини (Set)."
      ]
    },
    {
      "cell_type": "markdown",
      "metadata": {
        "id": "zNjRLHLw1Bgg"
      },
      "source": [
        "17. Створити множину без елементів. Після цого за допомогою методу додайте кілька різних елементів до множини. Чи множини є змінним типом даних?"
      ]
    },
    {
      "cell_type": "code",
      "execution_count": null,
      "metadata": {
        "id": "KOv7zc2Kfo4N"
      },
      "outputs": [],
      "source": [
        "# Створення порожньої множини\n",
        "my_set = set()  # Використовуємо set(), оскільки {} створює порожній словник\n",
        "\n",
        "# Додавання елементів до множини\n",
        "my_set.add(10)\n",
        "my_set.add(\"hello\")\n",
        "my_set.add(3.14)\n",
        "my_set.add(True)\n",
        "\n",
        "# Виведення множини\n",
        "print(\"Множина після додавання елементів:\", my_set)\n"
      ]
    },
    {
      "cell_type": "markdown",
      "metadata": {
        "id": "vxS6dVYiftZQ"
      },
      "source": [
        "Так"
      ]
    },
    {
      "cell_type": "markdown",
      "metadata": {
        "id": "gHpT0Zw_1HEF"
      },
      "source": [
        "18. Створити множину, маючи список my_list = [1, 1, 2, 67, 67, 8, 9]. Пояснити, чому \"зникли\" деякі елементи."
      ]
    },
    {
      "cell_type": "code",
      "execution_count": null,
      "metadata": {
        "id": "qCN4uvJ_fxmu"
      },
      "outputs": [],
      "source": [
        "# Початковий список\n",
        "my_list = [1, 1, 2, 67, 67, 8, 9]\n",
        "\n",
        "# Створення множини з цього списку\n",
        "my_set = set(my_list)\n",
        "\n",
        "# Вивід результату\n",
        "print(\"Оригінальний список:\", my_list)\n",
        "print(\"Множина:\", my_set)\n"
      ]
    },
    {
      "cell_type": "markdown",
      "metadata": {
        "id": "tFNc1e20fyny"
      },
      "source": [
        "*місце для текстової відповіді"
      ]
    },
    {
      "cell_type": "markdown",
      "metadata": {
        "id": "SRMkGizS1UwY"
      },
      "source": [
        "19. Створіть дві множини. Продемонстуйте над ними операції: обʼєднання, різниці, пересічі та симетричної різниці. Використовуйте методи, що не змінюють множини, а створюють нові."
      ]
    },
    {
      "cell_type": "code",
      "execution_count": null,
      "metadata": {
        "id": "h0T-VuDnf3Ri"
      },
      "outputs": [],
      "source": [
        "# Створення двох множин\n",
        "set1 = {1, 2, 3, 4, 5}\n",
        "set2 = {4, 5, 6, 7, 8}\n",
        "\n",
        "# Об'єднання (union)\n",
        "union_set = set1.union(set2)\n",
        "\n",
        "# Різниця (difference) set1 - set2\n",
        "difference_set = set1.difference(set2)\n",
        "\n",
        "# Перетин (intersection)\n",
        "intersection_set = set1.intersection(set2)\n",
        "\n",
        "# Симетрична різниця (symmetric difference)\n",
        "symmetric_difference_set = set1.symmetric_difference(set2)\n",
        "\n",
        "# Виведення результатів\n",
        "print(\"Множина 1:\", set1)\n",
        "print(\"Множина 2:\", set2)\n",
        "print(\"Об'єднання:\", union_set)\n",
        "print(\"Різниця (set1 - set2):\", difference_set)\n",
        "print(\"Перетин:\", intersection_set)\n",
        "print(\"Симетрична різниця:\", symmetric_difference_set)\n"
      ]
    },
    {
      "cell_type": "markdown",
      "metadata": {
        "id": "kWc8gkzTx7Ea"
      },
      "source": [
        "# VII. Словники (Dictionary)."
      ]
    },
    {
      "cell_type": "markdown",
      "metadata": {
        "id": "i5FLwj-B2ybQ"
      },
      "source": [
        "20. Створіть пустий словник. До нього додайте чотири пари елементів такі, щоб їхні ключі були різних типів. Чи може список бути ключем? Чому?"
      ]
    },
    {
      "cell_type": "code",
      "execution_count": null,
      "metadata": {
        "id": "hxgv3BzrgLAV"
      },
      "outputs": [],
      "source": [
        "# Створення порожнього словника\n",
        "my_dict = {}\n",
        "\n",
        "# Додавання пар ключ-значення з ключами різних типів\n",
        "my_dict[\"name\"] = \"Alice\"   # Ключ - рядок (str)\n",
        "my_dict[42] = \"Answer\"      # Ключ - число (int)\n",
        "my_dict[3.14] = \"Pi\"        # Ключ - число з рухомою комою (float)\n",
        "my_dict[(1, 2)] = \"Tuple\"   # Ключ - кортеж (tuple)\n",
        "\n",
        "# Виведення словника\n",
        "print(\"Словник:\", my_dict)\n"
      ]
    },
    {
      "cell_type": "markdown",
      "metadata": {
        "id": "zwa7UVN-gR3m"
      },
      "source": [
        "*місце для текстової відповіді"
      ]
    },
    {
      "cell_type": "markdown",
      "metadata": {
        "id": "WM_pMlJsgoNf"
      },
      "source": [
        "21. Створіть словник, де значенням в одній з пар теж буде словник, який теж має вкладений словник. Виведіть на екран значення, що міститься в словнику, що знаходиться на найнижчому рівні ієрархії вкладеності (найбільш внутрішній)."
      ]
    },
    {
      "cell_type": "code",
      "execution_count": null,
      "metadata": {
        "id": "60dlP7IHhAy4"
      },
      "outputs": [],
      "source": [
        "# Створення словника з вкладеними словниками\n",
        "nested_dict = {\n",
        "    \"level1\": {\n",
        "        \"level2\": {\n",
        "            \"level3\": \"Target Value\"  # Найглибший рівень\n",
        "        }\n",
        "    }\n",
        "}\n",
        "\n",
        "# Отримання значення з найнижчого рівня вкладеності\n",
        "deepest_value = nested_dict[\"level1\"][\"level2\"][\"level3\"]\n",
        "\n",
        "# Виведення результату\n",
        "print(\"Значення з найглибшого рівня:\", deepest_value)\n"
      ]
    },
    {
      "cell_type": "markdown",
      "metadata": {
        "id": "xOZP0hkx6cCr"
      },
      "source": [
        "# Вітаю! Ви велика(ий) молодець, що впоралась(вся). Похваліть себе та побалуйте чимось приємним. Я Вами пишаюся."
      ]
    }
  ],
  "metadata": {
    "colab": {
      "provenance": []
    },
    "kernelspec": {
      "display_name": "Python 3",
      "name": "python3"
    },
    "language_info": {
      "name": "python",
      "version": "3.12.9"
    }
  },
  "nbformat": 4,
  "nbformat_minor": 0
}
